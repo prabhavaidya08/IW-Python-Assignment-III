{
 "cells": [
  {
   "cell_type": "code",
   "execution_count": 1,
   "metadata": {},
   "outputs": [],
   "source": [
    "## Question: A. Make pythonic solutions for each of the following data structure and algorithm problems."
   ]
  },
  {
   "cell_type": "code",
   "execution_count": 5,
   "metadata": {},
   "outputs": [
    {
     "name": "stdout",
     "output_type": "stream",
     "text": [
      "[18, 28, 35, 47, 52, 55, 78, 92]\n"
     ]
    }
   ],
   "source": [
    "# a) Bubble Sort\n",
    "def bubbleSort(lists):\n",
    "    for passnum in range(len(lists)-1,0,-1):\n",
    "        for i in range(passnum):\n",
    "            if lists[i]>lists[i+1]:\n",
    "                temp = lists[i]\n",
    "                lists[i] = lists[i+1]\n",
    "                lists[i+1] = temp\n",
    "\n",
    "lists = [55, 28, 47, 52, 18, 35, 92, 78]\n",
    "bubbleSort(lists)\n",
    "print(lists)"
   ]
  },
  {
   "cell_type": "code",
   "execution_count": 8,
   "metadata": {},
   "outputs": [
    {
     "name": "stdout",
     "output_type": "stream",
     "text": [
      "Sorted Array is:\n",
      "10\n",
      "15\n",
      "22\n",
      "37\n",
      "65\n",
      "88\n"
     ]
    }
   ],
   "source": [
    "# b) Insertion Sort\n",
    "\n",
    "def insertionSort(arr): \n",
    "\n",
    "    # Traverse through 1 to len(arr) \n",
    "    for i in range(1, len(arr)): \n",
    "\n",
    "        key = arr[i]\n",
    "        # Move elements of arr[0..i-1], that are \n",
    "        # greater than key, to one position ahead \n",
    "        # of their current position \n",
    "        j = i-1\n",
    "        while j >=0 and key < arr[j] : \n",
    "                arr[j+1] = arr[j] \n",
    "                j -= 1\n",
    "        arr[j+1] = key \n",
    "\n",
    "arr = [15, 22, 37, 10, 65, 88] \n",
    "insertionSort(arr) \n",
    "print (\"Sorted Array is:\") \n",
    "for i in range(len(arr)): \n",
    "    print (\"%d\" %arr[i])\n"
   ]
  },
  {
   "cell_type": "code",
   "execution_count": 11,
   "metadata": {},
   "outputs": [
    {
     "name": "stdout",
     "output_type": "stream",
     "text": [
      "Sorted array is:\n",
      "2\n",
      "4\n",
      "5\n",
      "8\n",
      "10\n",
      "12\n",
      "14\n",
      "16\n"
     ]
    }
   ],
   "source": [
    "# c) Quick Sort\n",
    "\n",
    "def partition(arr,low,high): \n",
    "    i = ( low-1 )\n",
    "    pivot = arr[high]\n",
    "\n",
    "    for j in range(low , high): \n",
    "\n",
    "        if arr[j] <= pivot: \n",
    "            i = i+1\n",
    "            arr[i],arr[j] = arr[j],arr[i] \n",
    "\n",
    "    arr[i+1],arr[high] = arr[high],arr[i+1] \n",
    "    return ( i+1 ) \n",
    "\n",
    "\n",
    "# Function to do Quick sort \n",
    "def quickSort(arr,low,high): \n",
    "    if low < high: \n",
    "\n",
    "        pi = partition(arr,low,high) \n",
    "        quickSort(arr, low, pi-1) \n",
    "        quickSort(arr, pi+1, high) \n",
    "\n",
    "arr = [12, 4, 2, 5, 8, 16, 10, 14] \n",
    "n = len(arr) \n",
    "quickSort(arr,0,n-1) \n",
    "print (\"Sorted array is:\") \n",
    "for i in range(n): \n",
    "    print (\"%d\" %arr[i]), \n"
   ]
  },
  {
   "cell_type": "code",
   "execution_count": 12,
   "metadata": {},
   "outputs": [
    {
     "name": "stdout",
     "output_type": "stream",
     "text": [
      "Given array is\n",
      "12 11 13 5 6 7 \n",
      "Sorted array is: \n",
      "5 6 7 11 12 13 \n"
     ]
    }
   ],
   "source": [
    "# d) Merge Sort\n",
    " \n",
    "def mergeSort(arr): \n",
    "    if len(arr) >1: \n",
    "        mid = len(arr)//2 # Finding the mid of the array \n",
    "        L = arr[:mid] # Dividing the array elements \n",
    "        R = arr[mid:] # into 2 halves \n",
    "\n",
    "        mergeSort(L) # Sorting the first half \n",
    "        mergeSort(R) # Sorting the second half \n",
    "\n",
    "        i = j = k = 0\n",
    "\n",
    "        while i < len(L) and j < len(R): \n",
    "            if L[i] < R[j]: \n",
    "                arr[k] = L[i] \n",
    "                i+= 1\n",
    "            else: \n",
    "                arr[k] = R[j] \n",
    "                j+= 1\n",
    "            k+= 1\n",
    "\n",
    "        # Checking if any element was left \n",
    "        while i < len(L): \n",
    "            arr[k] = L[i] \n",
    "            i+= 1\n",
    "            k+= 1\n",
    "\n",
    "        while j < len(R): \n",
    "            arr[k] = R[j] \n",
    "            j+= 1\n",
    "            k+= 1\n",
    "\n",
    "def printList(arr): \n",
    "    for i in range(len(arr)):\n",
    "        print(arr[i], end =\" \") \n",
    "    print() \n",
    "\n",
    "if __name__ == '__main__': \n",
    "    arr = [12, 11, 13, 5, 6, 7] \n",
    "    print (\"Given array is\", end =\"\\n\") \n",
    "    printList(arr) \n",
    "    mergeSort(arr) \n",
    "    print(\"Sorted array is: \", end =\"\\n\") \n",
    "    printList(arr) "
   ]
  },
  {
   "cell_type": "code",
   "execution_count": 13,
   "metadata": {},
   "outputs": [
    {
     "name": "stdout",
     "output_type": "stream",
     "text": [
      "List has the items:  [4, 2, 7, 5, 12, 54, 21, 64, 12, 32]\n",
      "Enter a number to search for: 12\n",
      "12  was found in the list at index  4\n"
     ]
    }
   ],
   "source": [
    "# e) Linear Search\n",
    "\n",
    "nlist = [4, 2, 7, 5, 12, 54, 21, 64, 12, 32]\n",
    "print('List has the items: ', nlist)\n",
    "searchItem = int(input('Enter a number to search for: '))\n",
    "found = False\n",
    "for i in range(len(nlist)):\n",
    "    if nlist[i] == searchItem:\n",
    "        found = True\n",
    "        print(searchItem, ' was found in the list at index ', i)\n",
    "        break\n",
    "if found == False:\n",
    "    print(searchItem, ' was not found in the list!')"
   ]
  },
  {
   "cell_type": "code",
   "execution_count": 22,
   "metadata": {},
   "outputs": [
    {
     "name": "stdout",
     "output_type": "stream",
     "text": [
      "Element is present at index 3\n"
     ]
    }
   ],
   "source": [
    "# f) Binary Search\n",
    "\n",
    "def binary_search(arr, low, high, x): \n",
    "\n",
    "    if high >= low: \n",
    "\n",
    "        mid = (high + low) // 2\n",
    "\n",
    "        # If element is present at the middle itself \n",
    "        if arr[mid] == x: \n",
    "            return mid \n",
    "\n",
    "        # If element is smaller than mid, then it can only be present in left subarray \n",
    "        \n",
    "        elif arr[mid] > x: \n",
    "            return binary_search(arr, low, mid - 1, x) \n",
    "\n",
    "        # Else the element can only be present in right subarray \n",
    "        else: \n",
    "            return binary_search(arr, mid + 1, high, x) \n",
    "\n",
    "    else: \n",
    "        # Element is not present in the array \n",
    "        return -1\n",
    "\n",
    "arr = [ 1, 2, 3, 4, 5, 6] \n",
    "x = 4\n",
    "\n",
    "result = binary_search(arr, 0, len(arr)-1, x) \n",
    "\n",
    "if result != -1: \n",
    "    print(\"Element is present at index\", str(result)) \n",
    "else: \n",
    "    print(\"Element is not present in array\") "
   ]
  },
  {
   "cell_type": "code",
   "execution_count": 3,
   "metadata": {},
   "outputs": [
    {
     "name": "stdout",
     "output_type": "stream",
     "text": [
      "Element found at index 4\n"
     ]
    }
   ],
   "source": [
    "# g) Interpolation Search\n",
    "\n",
    "def interpolationSearch(arr, n, x): \n",
    "    lo = 0\n",
    "    hi = (n - 1) \n",
    "\n",
    "    # Since array is sorted, an element present \n",
    "    # in array must be in range defined by corner \n",
    "    while lo <= hi and x >= arr[lo] and x <= arr[hi]: \n",
    "        if lo == hi: \n",
    "            if arr[lo] == x: \n",
    "                return lo; \n",
    "            return -1; \n",
    "        \n",
    "        # Probing the position with keeping \n",
    "        # uniform distribution in mind. \n",
    "        pos = lo + int(((float(hi - lo) /\n",
    "            ( arr[hi] - arr[lo])) * ( x - arr[lo]))) \n",
    "\n",
    "        # Condition of target found \n",
    "        if arr[pos] == x: \n",
    "            return pos \n",
    "\n",
    "        # If x is larger, x is in upper part \n",
    "        if arr[pos] < x: \n",
    "            lo = pos + 1; \n",
    "\n",
    "        # If x is smaller, x is in lower part \n",
    "        else: \n",
    "            hi = pos - 1; \n",
    "    return -1\n",
    "\n",
    "arr = [10, 12, 13, 16, 18, 19, 20, 21, 22, 23, 24, 33, 35, 42, 47] \n",
    "n = len(arr) \n",
    "\n",
    "x = 18 # Element to be searched \n",
    "index = interpolationSearch(arr, n, x) \n",
    "\n",
    "if index != -1: \n",
    "    print (\"Element found at index\",index )\n",
    "else: \n",
    "    print (\"Element not found\")"
   ]
  },
  {
   "cell_type": "code",
   "execution_count": 20,
   "metadata": {},
   "outputs": [
    {
     "name": "stdout",
     "output_type": "stream",
     "text": [
      "The shortest distance of  a  from the source vertex a is: 0\n",
      "The shortest distance of  b  from the source vertex a is: 3\n",
      "The shortest distance of  c  from the source vertex a is: 3.5\n",
      "The shortest distance of  d  from the source vertex a is: 4.5\n"
     ]
    }
   ],
   "source": [
    "# h) Dijkstra’s Algorithm\n",
    "\n",
    "import sys\n",
    "\n",
    "def to_be_visited():\n",
    "  global visited_and_distance\n",
    "  v = -10\n",
    "  # Choosing the vertex with the minimum distance\n",
    "  for index in range(number_of_vertices):\n",
    "    if visited_and_distance[index][0] == 0 \\\n",
    "      and (v < 0 or visited_and_distance[index][1] <= \\\n",
    "      visited_and_distance[v][1]):\n",
    "        v = index\n",
    "  return v\n",
    "\n",
    "# Creating the graph as an adjacency matrix\n",
    "vertices = [[0, 1, 1, 0],\n",
    "            [0, 0, 1, 0],\n",
    "            [0, 0, 0, 1],\n",
    "            [0, 0, 0, 0]]\n",
    "edges =  [[0, 3, 4, 0],\n",
    "          [0, 0, 0.5, 0],\n",
    "          [0, 0, 0, 1],\n",
    "          [0, 0, 0, 0]]\n",
    "\n",
    "number_of_vertices = len(vertices[0])\n",
    "\n",
    "visited_and_distance = [[0, 0]]\n",
    "for i in range(number_of_vertices-1):\n",
    "  visited_and_distance.append([0, sys.maxsize])\n",
    "\n",
    "for vertex in range(number_of_vertices):\n",
    "  # Finding the next vertex to be visited.\n",
    "  to_visit = to_be_visited()\n",
    "  for neighbor_index in range(number_of_vertices):\n",
    "    # Calculating the new distance for all unvisited neighbours\n",
    "    # of the chosen vertex.\n",
    "    if vertices[to_visit][neighbor_index] == 1 and \\\n",
    "     visited_and_distance[neighbor_index][0] == 0:\n",
    "      new_distance = visited_and_distance[to_visit][1] \\\n",
    "      + edges[to_visit][neighbor_index]\n",
    "      # Updating the distance of the neighbor if its current distance\n",
    "      # is greater than the distance that has just been calculated\n",
    "      if visited_and_distance[neighbor_index][1] > new_distance:\n",
    "        visited_and_distance[neighbor_index][1] = new_distance\n",
    "    # Visiting the vertex found earlier\n",
    "    visited_and_distance[to_visit][0] = 1\n",
    "\n",
    "i = 0 \n",
    "\n",
    "# Printing out the shortest distance from the source to each vertex       \n",
    "for distance in visited_and_distance:\n",
    "  print(\"The shortest distance of \",chr(ord('a') + i),\\\n",
    "  \" from the source vertex a is:\",distance[1])\n",
    "  i = i + 1"
   ]
  },
  {
   "cell_type": "code",
   "execution_count": 27,
   "metadata": {},
   "outputs": [
    {
     "name": "stdout",
     "output_type": "stream",
     "text": [
      "Move disk 1 from rod A to rod C\n",
      "Move disk 2 from rod A to rod B\n",
      "Move disk 1 from rod C to rod B\n",
      "Move disk 3 from rod A to rod C\n",
      "Move disk 1 from rod B to rod A\n",
      "Move disk 2 from rod B to rod C\n",
      "Move disk 1 from rod A to rod C\n"
     ]
    }
   ],
   "source": [
    "# i) Tower of Hanoi problem for ‘n’ number of disks\n",
    "\n",
    "def TowerOfHanoi(n , from_rod, to_rod, aux_rod):\n",
    "   if n == 1:\n",
    "      print (\"Move disk 1 from rod\",from_rod,\"to rod\",to_rod)\n",
    "      return\n",
    "   TowerOfHanoi(n-1, from_rod, aux_rod, to_rod)\n",
    "   print (\"Move disk\",n,\"from rod\",from_rod,\"to rod\",to_rod)\n",
    "   TowerOfHanoi(n-1, aux_rod, to_rod, from_rod)\n",
    "# main\n",
    "n = 3\n",
    "TowerOfHanoi(n, 'A', 'C', 'B')"
   ]
  }
 ],
 "metadata": {
  "kernelspec": {
   "display_name": "Python 3",
   "language": "python",
   "name": "python3"
  },
  "language_info": {
   "codemirror_mode": {
    "name": "ipython",
    "version": 3
   },
   "file_extension": ".py",
   "mimetype": "text/x-python",
   "name": "python",
   "nbconvert_exporter": "python",
   "pygments_lexer": "ipython3",
   "version": "3.8.3"
  }
 },
 "nbformat": 4,
 "nbformat_minor": 4
}
